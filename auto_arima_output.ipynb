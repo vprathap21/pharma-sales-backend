{
 "cells": [
  {
   "cell_type": "raw",
   "id": "28c7d05c-2daa-4a71-a3b3-98ac86b3b399",
   "metadata": {},
   "source": [
    "Monthly sales prediction"
   ]
  },
  {
   "cell_type": "code",
   "execution_count": 1,
   "id": "c03b7a41-cecf-4aae-9387-2d5671e18bca",
   "metadata": {},
   "outputs": [
    {
     "data": {
      "text/html": [
       "<div>\n",
       "<style scoped>\n",
       "    .dataframe tbody tr th:only-of-type {\n",
       "        vertical-align: middle;\n",
       "    }\n",
       "\n",
       "    .dataframe tbody tr th {\n",
       "        vertical-align: top;\n",
       "    }\n",
       "\n",
       "    .dataframe thead th {\n",
       "        text-align: right;\n",
       "    }\n",
       "</style>\n",
       "<table border=\"1\" class=\"dataframe\">\n",
       "  <thead>\n",
       "    <tr style=\"text-align: right;\">\n",
       "      <th></th>\n",
       "      <th>M01AB</th>\n",
       "      <th>M01AE</th>\n",
       "      <th>N02BA</th>\n",
       "      <th>N02BE</th>\n",
       "      <th>N05B</th>\n",
       "      <th>N05C</th>\n",
       "      <th>R03</th>\n",
       "      <th>R06</th>\n",
       "    </tr>\n",
       "  </thead>\n",
       "  <tbody>\n",
       "    <tr>\n",
       "      <th>2024-05-31</th>\n",
       "      <td>151.434402</td>\n",
       "      <td>117.662319</td>\n",
       "      <td>93.285666</td>\n",
       "      <td>921.420169</td>\n",
       "      <td>266.05078</td>\n",
       "      <td>18.259037</td>\n",
       "      <td>224.243277</td>\n",
       "      <td>219.981998</td>\n",
       "    </tr>\n",
       "  </tbody>\n",
       "</table>\n",
       "</div>"
      ],
      "text/plain": [
       "                 M01AB       M01AE      N02BA       N02BE       N05B  \\\n",
       "2024-05-31  151.434402  117.662319  93.285666  921.420169  266.05078   \n",
       "\n",
       "                 N05C         R03         R06  \n",
       "2024-05-31  18.259037  224.243277  219.981998  "
      ]
     },
     "execution_count": 1,
     "metadata": {},
     "output_type": "execute_result"
    }
   ],
   "source": [
    "import pickle\n",
    "drugs = ['M01AB', 'M01AE', 'N02BA', 'N02BE', 'N05B', 'N05C', 'R03', 'R06']\n",
    "models = {}\n",
    "\n",
    "for drug in drugs:\n",
    "    with open(f'auto_arima_model_{drug}.pkl', 'rb') as file:\n",
    "        models[drug] = pickle.load(file)\n",
    "\n",
    "\n",
    "import pandas as pd\n",
    "\n",
    "start_date = '2019-11-30'   #last_date in the dataset\n",
    "end_date = '2024-06-03'     #sales date to be predicted\n",
    "date_range = pd.date_range(start=start_date, end=end_date, freq='ME')\n",
    "\n",
    "predictions = {}\n",
    "for drug in drugs:\n",
    "    predictions[drug] = models[drug].predict(n_periods=len(date_range))\n",
    "\n",
    "predictions_df = pd.DataFrame(predictions, index=date_range)\n",
    "predictions_df.tail(1)"
   ]
  },
  {
   "cell_type": "raw",
   "id": "6bbf88b6-5def-45a5-bc5e-979636606459",
   "metadata": {},
   "source": [
    "Weekly sales prediction"
   ]
  },
  {
   "cell_type": "code",
   "execution_count": 70,
   "id": "6969795f-9251-467b-a36b-e2d8cd4bab8e",
   "metadata": {},
   "outputs": [
    {
     "data": {
      "text/html": [
       "<div>\n",
       "<style scoped>\n",
       "    .dataframe tbody tr th:only-of-type {\n",
       "        vertical-align: middle;\n",
       "    }\n",
       "\n",
       "    .dataframe tbody tr th {\n",
       "        vertical-align: top;\n",
       "    }\n",
       "\n",
       "    .dataframe thead th {\n",
       "        text-align: right;\n",
       "    }\n",
       "</style>\n",
       "<table border=\"1\" class=\"dataframe\">\n",
       "  <thead>\n",
       "    <tr style=\"text-align: right;\">\n",
       "      <th></th>\n",
       "      <th>M01AB</th>\n",
       "      <th>M01AE</th>\n",
       "      <th>N02BA</th>\n",
       "      <th>N02BE</th>\n",
       "      <th>N05B</th>\n",
       "      <th>N05C</th>\n",
       "      <th>R03</th>\n",
       "      <th>R06</th>\n",
       "    </tr>\n",
       "  </thead>\n",
       "  <tbody>\n",
       "    <tr>\n",
       "      <th>2039-11-13</th>\n",
       "      <td>38.800828</td>\n",
       "      <td>27.196091</td>\n",
       "      <td>21.16668</td>\n",
       "      <td>209.813359</td>\n",
       "      <td>57.438095</td>\n",
       "      <td>4.144609</td>\n",
       "      <td>30.345556</td>\n",
       "      <td>20.269843</td>\n",
       "    </tr>\n",
       "  </tbody>\n",
       "</table>\n",
       "</div>"
      ],
      "text/plain": [
       "                M01AB      M01AE     N02BA       N02BE       N05B      N05C  \\\n",
       "2039-11-13  38.800828  27.196091  21.16668  209.813359  57.438095  4.144609   \n",
       "\n",
       "                  R03        R06  \n",
       "2039-11-13  30.345556  20.269843  "
      ]
     },
     "execution_count": 70,
     "metadata": {},
     "output_type": "execute_result"
    }
   ],
   "source": [
    "import pickle\n",
    "from datetime import datetime, timedelta\n",
    "drugs = ['M01AB', 'M01AE', 'N02BA', 'N02BE', 'N05B', 'N05C', 'R03', 'R06']\n",
    "models = {}\n",
    "\n",
    "for drug in drugs:\n",
    "    with open(f'auto_arima_model_Week_{drug}.pkl', 'rb') as file:\n",
    "        models[drug] = pickle.load(file)\n",
    "\n",
    "\n",
    "import pandas as pd\n",
    "\n",
    "start_date = '2019-10-20'\n",
    "end_date = '2039-11-13'\n",
    "date_range = pd.date_range(start=start_date, end=end_date, freq='7D')\n",
    "\n",
    "\n",
    "predictions = {}\n",
    "for drug in drugs:\n",
    "    predictions[drug] = models[drug].predict(n_periods=len(date_range))\n",
    "\n",
    "predictions_df = pd.DataFrame(predictions, index=date_range)\n",
    "predictions_df.tail(1)\n",
    "\n",
    "#38.800828\t28.293851\t20.964628\t262.175237\t57.438095\t4.336334\t30.345556\t16.225372"
   ]
  },
  {
   "cell_type": "code",
   "execution_count": null,
   "id": "3b39b8ac-7236-44f8-be58-79029c69df3a",
   "metadata": {},
   "outputs": [],
   "source": []
  }
 ],
 "metadata": {
  "kernelspec": {
   "display_name": "Python 3 (ipykernel)",
   "language": "python",
   "name": "python3"
  },
  "language_info": {
   "codemirror_mode": {
    "name": "ipython",
    "version": 3
   },
   "file_extension": ".py",
   "mimetype": "text/x-python",
   "name": "python",
   "nbconvert_exporter": "python",
   "pygments_lexer": "ipython3",
   "version": "3.10.12"
  }
 },
 "nbformat": 4,
 "nbformat_minor": 5
}
